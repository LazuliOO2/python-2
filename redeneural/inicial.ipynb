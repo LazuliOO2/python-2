{
 "cells": [
  {
   "cell_type": "code",
   "execution_count": 3,
   "metadata": {},
   "outputs": [
    {
     "name": "stdout",
     "output_type": "stream",
     "text": [
      "2.75\n"
     ]
    }
   ],
   "source": [
    "#O neuronio tem varias camadas e que possui peso que seria a força de ligação entre eles nesse exemplo coloquei uma entrada e uma saida com seus peso\n",
    "#Bias em redes neurais é um valor adicional que é adicionado a cada neurônio, juntamente com as entradas, antes de ser aplicada uma função de ativação. Esse valor de bias permite que a rede neural faça ajustes na função de ativação, deslocando-a para cima ou para baixo1. Simplificando, o bias é uma entrada de valor “1” associada a um peso “b” em cada neurônio. Sua função é aumentar ou diminuir a entrada líquida, de forma a transladar a função de ativação no eixo. Por exemplo, para aproximar um conjunto de pontos a uma reta, usamos a equação (y = a \\cdot x + b \\cdot 1), onde (a) e (b) são constantes. Aqui, (x) é uma entrada associada a um peso (a), e temos um peso (b) associado à entrada 1. O bias também ajuda a controlar o valor no qual a função de ativação será ativada2. Portanto, ele desempenha um papel importante na flexibilidade e adaptação do modelo de rede neural aos dados fornecidos.\n",
    "entrada = [1,2,3]\n",
    "peso = [0.25,4,-2.5]\n",
    "bias = 2\n",
    "saida = (entrada[0] * peso[0] + entrada[1] * peso[1] + entrada[2] * peso[2] + bias)\n",
    "print(saida)"
   ]
  },
  {
   "cell_type": "code",
   "execution_count": 5,
   "metadata": {},
   "outputs": [
    {
     "name": "stdout",
     "output_type": "stream",
     "text": [
      "[4.719999999999999, 1.7699999999999996, 75.075]\n"
     ]
    }
   ],
   "source": [
    "entradas = [1,2,3,2.5]\n",
    "\n",
    "peso1 = [0.50,0.86,-5,7]\n",
    "peso2 = [-0.35,-0.24,-0.8,2]\n",
    "peso3 = [1,5,22,-0.77]\n",
    "\n",
    "bias1 = 2\n",
    "bias2 = 1\n",
    "bias3 = 6 \n",
    "\n",
    "saidas = [\n",
    "    #neuronio1\n",
    "    entradas[0] * peso1[0] + entradas[1] * peso1[1] + entradas[2] * peso1[2] + entradas[3] * peso1[3],\n",
    "    #neuronio2\n",
    "    entradas[0] * peso2[0] +  entradas[1] * peso2[1] +  entradas[2] * peso2[2] + entradas[3] * peso2[3],\n",
    "    #neuronio3\n",
    "    entradas[0] * peso3[0] +  entradas[1] * peso3[1] +  entradas[2] * peso3[2] +   entradas[3] * peso3[3]\n",
    "    ]\n",
    "print(saidas)"
   ]
  },
  {
   "cell_type": "code",
   "execution_count": 6,
   "metadata": {},
   "outputs": [
    {
     "name": "stdout",
     "output_type": "stream",
     "text": [
      "[[-0.16595599]\n",
      " [ 0.44064899]\n",
      " [-0.99977125]]\n"
     ]
    }
   ],
   "source": [
    "#Problemas\n",
    "#Treina modelos de forma que ele consiga preve os resultado de saida \n",
    "import numpy as np\n",
    "#matrix (4x3)\n",
    "treinamento_entranda = np.array([[0,0,1],\n",
    "                                 [1,1,1],\n",
    "                                 [1,0,1],\n",
    "                                 [0,1,1]])\n",
    "treinamento_resultado = np.array([[0,1,1,0]]).T\n",
    "\n",
    "np.random.seed(1)\n",
    "\n",
    "#Os pesos sinápticos são parâmetros ajustáveis dentro de neurônios artificiais em redes neurais. Esses pesos determinam a intensidade dos sinais de entrada e são fundamentais para o funcionamento da rede\n",
    "\n",
    "#Neurônios Artificiais:\n",
    "#Os neurônios artificiais são os blocos de construção básicos das redes neurais.\n",
    "#Cada neurônio recebe várias entradas ponderadas (multiplicadas pelos pesos sinápticos) e produz uma saída.\n",
    "\n",
    "#Função dos Pesos Sinápticos:\n",
    "#Os pesos sinápticos representam a força das conexões entre os neurônios.\n",
    "#Quando um sinal de entrada é transmitido para um neurônio, ele é multiplicado pelo peso sináptico correspondente.\n",
    "#A soma ponderada desses sinais de entrada (incluindo os pesos) determina a ativação do neurônio.\n",
    "\n",
    "#Aprendizado e Ajuste:\n",
    "#Durante o treinamento da rede neural, os pesos sinápticos são ajustados para otimizar o desempenho da rede.\n",
    "#O processo de ajuste envolve encontrar os pesos que minimizam a função de custo (ou erro) da rede.\n",
    "\n",
    "pesos_sinapticos =  2* np.random.random((3,1)) -1\n",
    "\n",
    "print(pesos_sinapticos)"
   ]
  },
  {
   "cell_type": "code",
   "execution_count": 7,
   "metadata": {},
   "outputs": [],
   "source": [
    "#ativação restrigir o limite amplitude de saida de um neuronio para que ele seja finito\n",
    "def sigmoid(x):\n",
    "    return 1/(1 + np.exp(-x))"
   ]
  },
  {
   "cell_type": "code",
   "execution_count": 8,
   "metadata": {},
   "outputs": [],
   "source": [
    "def sigmoid_derivada(x):\n",
    "    return x * (1-x)"
   ]
  },
  {
   "cell_type": "code",
   "execution_count": 10,
   "metadata": {},
   "outputs": [],
   "source": [
    "for i in range(10000):\n",
    "    input_layer = treinamento_entranda\n",
    "    output = sigmoid(np.dot(input_layer, pesos_sinapticos))\n",
    "\n",
    "    erro = treinamento_resultado - output \n",
    "    ajuste = erro * sigmoid_derivada(output)\n",
    "\n",
    "    pesos_sinapticos += np.dot(input_layer.T, ajuste)\n"
   ]
  }
 ],
 "metadata": {
  "kernelspec": {
   "display_name": "Python 3",
   "language": "python",
   "name": "python3"
  },
  "language_info": {
   "codemirror_mode": {
    "name": "ipython",
    "version": 3
   },
   "file_extension": ".py",
   "mimetype": "text/x-python",
   "name": "python",
   "nbconvert_exporter": "python",
   "pygments_lexer": "ipython3",
   "version": "3.12.2"
  }
 },
 "nbformat": 4,
 "nbformat_minor": 2
}
