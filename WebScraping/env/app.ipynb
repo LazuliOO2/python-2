{
 "cells": [
  {
   "cell_type": "code",
   "execution_count": 3,
   "metadata": {},
   "outputs": [
    {
     "name": "stdout",
     "output_type": "stream",
     "text": [
      "Tickets salvos no arquivo 'tickets.csv'.\n"
     ]
    }
   ],
   "source": [
    "# Mostrarei como podemos utilizar o selenium para fazer webScraping.Iremos obter os ticket de ações e de criptomoeda atráves do site infomoney\n",
    "# WebScraping não é ilegal porém se viola as diretriz do site se tornar,então é sempre bom fazer de maneira etica e respeitado o site se possivel é melhor obter atráves de uma api se o site fornece\n",
    "# Você precisa instalar o selenium e webdriver dele utilizado o comando pip install\n",
    "from selenium import webdriver\n",
    "from selenium.webdriver.chrome.service import Service\n",
    "from selenium.webdriver.common.by import By\n",
    "from webdriver_manager.chrome import ChromeDriverManager\n",
    "import csv\n",
    "import time\n",
    "\n",
    "# URL do site\n",
    "url = \"https://www.infomoney.com.br/cotacoes/empresas-b3/\"\n",
    "\n",
    "# Inicializando o navegador com o WebDriver Manager\n",
    "service = Service(ChromeDriverManager().install())\n",
    "driver = webdriver.Chrome(service=service)\n",
    "\n",
    "try:\n",
    "    # Acessando o site\n",
    "    driver.get(url)\n",
    "\n",
    "    # Esperando alguns segundos para carregar o conteúdo dinâmico\n",
    "    time.sleep(5)\n",
    "\n",
    "    # Encontrando os elementos que contêm os tickets\n",
    "    ticket_elements = driver.find_elements(By.CLASS_NAME, \"strong\")\n",
    "\n",
    "    # Extraindo o texto dos tickets\n",
    "    tickets = [ticket.text for ticket in ticket_elements]\n",
    "\n",
    "    # Nome do arquivo CSV\n",
    "    csv_file = \"tickets.csv\"\n",
    "\n",
    "    # Salvando os dados no arquivo CSV\n",
    "    with open(csv_file, mode=\"w\", newline=\"\", encoding=\"utf-8\") as file:\n",
    "        writer = csv.writer(file)\n",
    "        writer.writerow([\"Tickets\"])  # Cabeçalho\n",
    "        for ticket in tickets:\n",
    "            writer.writerow([ticket])\n",
    "\n",
    "    print(f\"Tickets salvos no arquivo '{csv_file}'.\")\n",
    "finally:\n",
    "    # Fechando o navegador\n",
    "    driver.quit()\n",
    "\n",
    "# Depois da execução do código aparece um arquivo csv mostrado os ticket da ações\n",
    "\n",
    "\n"
   ]
  }
 ],
 "metadata": {
  "kernelspec": {
   "display_name": "Python 3",
   "language": "python",
   "name": "python3"
  },
  "language_info": {
   "codemirror_mode": {
    "name": "ipython",
    "version": 3
   },
   "file_extension": ".py",
   "mimetype": "text/x-python",
   "name": "python",
   "nbconvert_exporter": "python",
   "pygments_lexer": "ipython3",
   "version": "3.12.7"
  }
 },
 "nbformat": 4,
 "nbformat_minor": 2
}
